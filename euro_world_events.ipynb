{
 "cells": [
  {
   "cell_type": "code",
   "execution_count": 1,
   "metadata": {},
   "outputs": [],
   "source": [
    "import pandas as pd"
   ]
  },
  {
   "cell_type": "code",
   "execution_count": 2,
   "metadata": {},
   "outputs": [
    {
     "data": {
      "text/html": [
       "<div>\n",
       "<style scoped>\n",
       "    .dataframe tbody tr th:only-of-type {\n",
       "        vertical-align: middle;\n",
       "    }\n",
       "\n",
       "    .dataframe tbody tr th {\n",
       "        vertical-align: top;\n",
       "    }\n",
       "\n",
       "    .dataframe thead th {\n",
       "        text-align: right;\n",
       "    }\n",
       "</style>\n",
       "<table border=\"1\" class=\"dataframe\">\n",
       "  <thead>\n",
       "    <tr style=\"text-align: right;\">\n",
       "      <th></th>\n",
       "      <th>Date</th>\n",
       "      <th>Close</th>\n",
       "    </tr>\n",
       "  </thead>\n",
       "  <tbody>\n",
       "    <tr>\n",
       "      <th>0</th>\n",
       "      <td>2003-12-01</td>\n",
       "      <td>1.196501</td>\n",
       "    </tr>\n",
       "    <tr>\n",
       "      <th>1</th>\n",
       "      <td>2003-12-02</td>\n",
       "      <td>1.208897</td>\n",
       "    </tr>\n",
       "    <tr>\n",
       "      <th>2</th>\n",
       "      <td>2003-12-03</td>\n",
       "      <td>1.212298</td>\n",
       "    </tr>\n",
       "    <tr>\n",
       "      <th>3</th>\n",
       "      <td>2003-12-04</td>\n",
       "      <td>1.208094</td>\n",
       "    </tr>\n",
       "    <tr>\n",
       "      <th>4</th>\n",
       "      <td>2003-12-05</td>\n",
       "      <td>1.218695</td>\n",
       "    </tr>\n",
       "  </tbody>\n",
       "</table>\n",
       "</div>"
      ],
      "text/plain": [
       "         Date     Close\n",
       "0  2003-12-01  1.196501\n",
       "1  2003-12-02  1.208897\n",
       "2  2003-12-03  1.212298\n",
       "3  2003-12-04  1.208094\n",
       "4  2003-12-05  1.218695"
      ]
     },
     "execution_count": 2,
     "metadata": {},
     "output_type": "execute_result"
    }
   ],
   "source": [
    "# Reading my first csv file, the Euro/USD exchange rates\n",
    "euro_df = pd.read_csv('Input/EURUSDX.csv', usecols = ['Date', 'Close'])\n",
    "\n",
    "euro_df.head()"
   ]
  },
  {
   "cell_type": "code",
   "execution_count": 3,
   "metadata": {},
   "outputs": [
    {
     "data": {
      "text/plain": [
       "(4870, 2)"
      ]
     },
     "execution_count": 3,
     "metadata": {},
     "output_type": "execute_result"
    }
   ],
   "source": [
    "# Checking basic info such as shape, NaNs and dtypes\n",
    "euro_df.shape"
   ]
  },
  {
   "cell_type": "code",
   "execution_count": 4,
   "metadata": {},
   "outputs": [
    {
     "data": {
      "text/plain": [
       "True"
      ]
     },
     "execution_count": 4,
     "metadata": {},
     "output_type": "execute_result"
    }
   ],
   "source": [
    "# Checking for null values in the euro dataframe\n",
    "euro_df.isnull().values.any()"
   ]
  },
  {
   "cell_type": "code",
   "execution_count": 5,
   "metadata": {},
   "outputs": [
    {
     "data": {
      "text/plain": [
       "<bound method DataFrame.info of             Date     Close\n",
       "0     2003-12-01  1.196501\n",
       "1     2003-12-02  1.208897\n",
       "2     2003-12-03  1.212298\n",
       "3     2003-12-04  1.208094\n",
       "4     2003-12-05  1.218695\n",
       "...          ...       ...\n",
       "4865  2022-07-25  1.020023\n",
       "4866  2022-07-26  1.022495\n",
       "4867  2022-07-27  1.012956\n",
       "4868  2022-07-28  1.020929\n",
       "4869  2022-07-29  1.024380\n",
       "\n",
       "[4870 rows x 2 columns]>"
      ]
     },
     "execution_count": 5,
     "metadata": {},
     "output_type": "execute_result"
    }
   ],
   "source": [
    "# Pulling information about the data frame such as number of columns, column labels, etc.\n",
    "euro_df.info"
   ]
  },
  {
   "cell_type": "code",
   "execution_count": 6,
   "metadata": {},
   "outputs": [
    {
     "data": {
      "text/html": [
       "<div>\n",
       "<style scoped>\n",
       "    .dataframe tbody tr th:only-of-type {\n",
       "        vertical-align: middle;\n",
       "    }\n",
       "\n",
       "    .dataframe tbody tr th {\n",
       "        vertical-align: top;\n",
       "    }\n",
       "\n",
       "    .dataframe thead th {\n",
       "        text-align: right;\n",
       "    }\n",
       "</style>\n",
       "<table border=\"1\" class=\"dataframe\">\n",
       "  <thead>\n",
       "    <tr style=\"text-align: right;\">\n",
       "      <th></th>\n",
       "      <th>Close</th>\n",
       "    </tr>\n",
       "  </thead>\n",
       "  <tbody>\n",
       "    <tr>\n",
       "      <th>count</th>\n",
       "      <td>4841.000000</td>\n",
       "    </tr>\n",
       "    <tr>\n",
       "      <th>mean</th>\n",
       "      <td>1.250149</td>\n",
       "    </tr>\n",
       "    <tr>\n",
       "      <th>std</th>\n",
       "      <td>0.121111</td>\n",
       "    </tr>\n",
       "    <tr>\n",
       "      <th>min</th>\n",
       "      <td>1.002567</td>\n",
       "    </tr>\n",
       "    <tr>\n",
       "      <th>25%</th>\n",
       "      <td>1.140004</td>\n",
       "    </tr>\n",
       "    <tr>\n",
       "      <th>50%</th>\n",
       "      <td>1.238497</td>\n",
       "    </tr>\n",
       "    <tr>\n",
       "      <th>75%</th>\n",
       "      <td>1.336791</td>\n",
       "    </tr>\n",
       "    <tr>\n",
       "      <th>max</th>\n",
       "      <td>1.598798</td>\n",
       "    </tr>\n",
       "  </tbody>\n",
       "</table>\n",
       "</div>"
      ],
      "text/plain": [
       "             Close\n",
       "count  4841.000000\n",
       "mean      1.250149\n",
       "std       0.121111\n",
       "min       1.002567\n",
       "25%       1.140004\n",
       "50%       1.238497\n",
       "75%       1.336791\n",
       "max       1.598798"
      ]
     },
     "execution_count": 6,
     "metadata": {},
     "output_type": "execute_result"
    }
   ],
   "source": [
    "# Calculating some statistical data about the euro dataframe\n",
    "euro_df.describe()"
   ]
  },
  {
   "cell_type": "code",
   "execution_count": 7,
   "metadata": {},
   "outputs": [
    {
     "data": {
      "text/html": [
       "<div>\n",
       "<style scoped>\n",
       "    .dataframe tbody tr th:only-of-type {\n",
       "        vertical-align: middle;\n",
       "    }\n",
       "\n",
       "    .dataframe tbody tr th {\n",
       "        vertical-align: top;\n",
       "    }\n",
       "\n",
       "    .dataframe thead th {\n",
       "        text-align: right;\n",
       "    }\n",
       "</style>\n",
       "<table border=\"1\" class=\"dataframe\">\n",
       "  <thead>\n",
       "    <tr style=\"text-align: right;\">\n",
       "      <th></th>\n",
       "      <th>Event</th>\n",
       "      <th>Date</th>\n",
       "      <th>Region</th>\n",
       "    </tr>\n",
       "  </thead>\n",
       "  <tbody>\n",
       "    <tr>\n",
       "      <th>0</th>\n",
       "      <td>Iraq War</td>\n",
       "      <td>2003-03-20</td>\n",
       "      <td>US</td>\n",
       "    </tr>\n",
       "    <tr>\n",
       "      <th>1</th>\n",
       "      <td>2004 Presidential Election</td>\n",
       "      <td>2004-11-02</td>\n",
       "      <td>US</td>\n",
       "    </tr>\n",
       "    <tr>\n",
       "      <th>2</th>\n",
       "      <td>Indian Ocean Earthquake &amp; Tsunami</td>\n",
       "      <td>2004-12-26</td>\n",
       "      <td>WORLD</td>\n",
       "    </tr>\n",
       "    <tr>\n",
       "      <th>3</th>\n",
       "      <td>Pope John Paul II Death</td>\n",
       "      <td>2005-04-02</td>\n",
       "      <td>WORLD</td>\n",
       "    </tr>\n",
       "    <tr>\n",
       "      <th>4</th>\n",
       "      <td>iPhone Introduction</td>\n",
       "      <td>2007-01-09</td>\n",
       "      <td>WORLD</td>\n",
       "    </tr>\n",
       "  </tbody>\n",
       "</table>\n",
       "</div>"
      ],
      "text/plain": [
       "                               Event        Date Region\n",
       "0                           Iraq War  2003-03-20     US\n",
       "1         2004 Presidential Election  2004-11-02     US\n",
       "2  Indian Ocean Earthquake & Tsunami  2004-12-26  WORLD\n",
       "3            Pope John Paul II Death  2005-04-02  WORLD\n",
       "4                iPhone Introduction  2007-01-09  WORLD"
      ]
     },
     "execution_count": 7,
     "metadata": {},
     "output_type": "execute_result"
    }
   ],
   "source": [
    "# Reading my second csv file, the important world event dates\n",
    "dates_df = pd.read_csv('Input/World_Events.csv', usecols = ['Event', 'Date', 'Region'])\n",
    "\n",
    "dates_df.head()\n"
   ]
  },
  {
   "cell_type": "code",
   "execution_count": 8,
   "metadata": {},
   "outputs": [
    {
     "name": "stdout",
     "output_type": "stream",
     "text": [
      "            Date     Close\n",
      "2893  2015-01-01  1.209863\n"
     ]
    }
   ],
   "source": [
    "# Test to see if a random date gives me the correct outcome\n",
    "euro_2015 = euro_df.loc[euro_df.Date == '2015-01-01']\n",
    "\n",
    "print(euro_2015)\n"
   ]
  },
  {
   "cell_type": "code",
   "execution_count": 9,
   "metadata": {},
   "outputs": [
    {
     "name": "stdout",
     "output_type": "stream",
     "text": [
      "                        Event        Date Region\n",
      "1  2004 Presidential Election  2004-11-02     US\n"
     ]
    }
   ],
   "source": [
    "# Another test to see if the dates dataframe gives me the correct outcome for a random date\n",
    "event_1 = dates_df.loc[dates_df.Date == '2004-11-02']\n",
    "\n",
    "print(event_1)"
   ]
  },
  {
   "cell_type": "code",
   "execution_count": 10,
   "metadata": {},
   "outputs": [
    {
     "name": "stdout",
     "output_type": "stream",
     "text": [
      "          Date     Close                                 Event Region\n",
      "0   2004-11-02  1.272006            2004 Presidential Election     US\n",
      "1   2007-01-09  1.299697                   iPhone Introduction  WORLD\n",
      "2   2008-09-15  1.426900                  2008 Great Recession  WORLD\n",
      "3   2008-09-29  1.439325                  Housing Market Crash     US\n",
      "4   2008-11-04  1.298398            2008 Presidential Election     US\n",
      "5   2008-12-11  1.332996                        Madoff Scandal     US\n",
      "6   2010-12-17  1.323995                           Arab Spring  WORLD\n",
      "7   2011-01-14  1.335327                      Tunisia Uprising  WORLD\n",
      "8   2011-02-03  1.381788                        Yemen Uprising  WORLD\n",
      "9   2011-02-09  1.362695                        Egypt Uprising  WORLD\n",
      "10  2011-02-15  1.348109                        Libya Uprising  WORLD\n",
      "11  2011-03-11  1.380129    2011 Japanese Earthquake & Tsunami  WORLD\n",
      "12  2011-04-29  1.484406                        Syria Uprising  WORLD\n",
      "13  2012-05-18  1.269841                          Facebook IPO     US\n",
      "14  2012-06-01  1.236247                       Coinbase Launch  WORLD\n",
      "15  2012-11-06  1.280246            2012 Presidential Election     US\n",
      "16  2016-11-08  1.105217            2016 Presidential Election     US\n",
      "17  2017-03-29  1.081771                    Brexit Talks Start  WORLD\n",
      "18  2019-12-27  1.110112  First Chinese COVID-19 Case Reported  WORLD\n",
      "19  2020-01-31  1.102913                    Brexit Implemented  WORLD\n",
      "20  2020-11-03  1.164280            2020 Presidential Election     US\n",
      "21  2021-01-06  1.230027                    US Capitol Attacks     US\n",
      "22  2021-01-20  1.213887                    Biden Inauguration     US\n",
      "23  2022-02-24  1.130569           Russian invasion of Ukraine  WORLD\n",
      "24  2022-06-30  1.044659                        Inflation Rise     US\n"
     ]
    }
   ],
   "source": [
    "# Merged dataframes to give an overview of various events and the closing rate of the Euro/USD exchange\n",
    "euro_events = euro_df.merge(dates_df)\n",
    "\n",
    "print(euro_events)"
   ]
  },
  {
   "cell_type": "code",
   "execution_count": 11,
   "metadata": {},
   "outputs": [
    {
     "data": {
      "text/html": [
       "<div>\n",
       "<style scoped>\n",
       "    .dataframe tbody tr th:only-of-type {\n",
       "        vertical-align: middle;\n",
       "    }\n",
       "\n",
       "    .dataframe tbody tr th {\n",
       "        vertical-align: top;\n",
       "    }\n",
       "\n",
       "    .dataframe thead th {\n",
       "        text-align: right;\n",
       "    }\n",
       "</style>\n",
       "<table border=\"1\" class=\"dataframe\">\n",
       "  <thead>\n",
       "    <tr style=\"text-align: right;\">\n",
       "      <th></th>\n",
       "      <th>Date</th>\n",
       "      <th>Close</th>\n",
       "      <th>Event</th>\n",
       "      <th>Region</th>\n",
       "    </tr>\n",
       "  </thead>\n",
       "  <tbody>\n",
       "    <tr>\n",
       "      <th>1</th>\n",
       "      <td>2007-01-09</td>\n",
       "      <td>1.299697</td>\n",
       "      <td>iPhone Introduction</td>\n",
       "      <td>WORLD</td>\n",
       "    </tr>\n",
       "    <tr>\n",
       "      <th>2</th>\n",
       "      <td>2008-09-15</td>\n",
       "      <td>1.426900</td>\n",
       "      <td>2008 Great Recession</td>\n",
       "      <td>WORLD</td>\n",
       "    </tr>\n",
       "    <tr>\n",
       "      <th>6</th>\n",
       "      <td>2010-12-17</td>\n",
       "      <td>1.323995</td>\n",
       "      <td>Arab Spring</td>\n",
       "      <td>WORLD</td>\n",
       "    </tr>\n",
       "    <tr>\n",
       "      <th>7</th>\n",
       "      <td>2011-01-14</td>\n",
       "      <td>1.335327</td>\n",
       "      <td>Tunisia Uprising</td>\n",
       "      <td>WORLD</td>\n",
       "    </tr>\n",
       "    <tr>\n",
       "      <th>8</th>\n",
       "      <td>2011-02-03</td>\n",
       "      <td>1.381788</td>\n",
       "      <td>Yemen Uprising</td>\n",
       "      <td>WORLD</td>\n",
       "    </tr>\n",
       "  </tbody>\n",
       "</table>\n",
       "</div>"
      ],
      "text/plain": [
       "         Date     Close                 Event Region\n",
       "1  2007-01-09  1.299697   iPhone Introduction  WORLD\n",
       "2  2008-09-15  1.426900  2008 Great Recession  WORLD\n",
       "6  2010-12-17  1.323995           Arab Spring  WORLD\n",
       "7  2011-01-14  1.335327      Tunisia Uprising  WORLD\n",
       "8  2011-02-03  1.381788        Yemen Uprising  WORLD"
      ]
     },
     "execution_count": 11,
     "metadata": {},
     "output_type": "execute_result"
    }
   ],
   "source": [
    "# Results for Euro/USD exchange rate based on World only events\n",
    "world_events = euro_events.loc[euro_events.Region == 'WORLD']\n",
    "\n",
    "world_events.head()"
   ]
  },
  {
   "cell_type": "code",
   "execution_count": 12,
   "metadata": {},
   "outputs": [
    {
     "data": {
      "text/html": [
       "<div>\n",
       "<style scoped>\n",
       "    .dataframe tbody tr th:only-of-type {\n",
       "        vertical-align: middle;\n",
       "    }\n",
       "\n",
       "    .dataframe tbody tr th {\n",
       "        vertical-align: top;\n",
       "    }\n",
       "\n",
       "    .dataframe thead th {\n",
       "        text-align: right;\n",
       "    }\n",
       "</style>\n",
       "<table border=\"1\" class=\"dataframe\">\n",
       "  <thead>\n",
       "    <tr style=\"text-align: right;\">\n",
       "      <th></th>\n",
       "      <th>Date</th>\n",
       "      <th>Close</th>\n",
       "      <th>Event</th>\n",
       "      <th>Region</th>\n",
       "    </tr>\n",
       "  </thead>\n",
       "  <tbody>\n",
       "    <tr>\n",
       "      <th>0</th>\n",
       "      <td>2004-11-02</td>\n",
       "      <td>1.272006</td>\n",
       "      <td>2004 Presidential Election</td>\n",
       "      <td>US</td>\n",
       "    </tr>\n",
       "    <tr>\n",
       "      <th>3</th>\n",
       "      <td>2008-09-29</td>\n",
       "      <td>1.439325</td>\n",
       "      <td>Housing Market Crash</td>\n",
       "      <td>US</td>\n",
       "    </tr>\n",
       "    <tr>\n",
       "      <th>4</th>\n",
       "      <td>2008-11-04</td>\n",
       "      <td>1.298398</td>\n",
       "      <td>2008 Presidential Election</td>\n",
       "      <td>US</td>\n",
       "    </tr>\n",
       "    <tr>\n",
       "      <th>5</th>\n",
       "      <td>2008-12-11</td>\n",
       "      <td>1.332996</td>\n",
       "      <td>Madoff Scandal</td>\n",
       "      <td>US</td>\n",
       "    </tr>\n",
       "    <tr>\n",
       "      <th>13</th>\n",
       "      <td>2012-05-18</td>\n",
       "      <td>1.269841</td>\n",
       "      <td>Facebook IPO</td>\n",
       "      <td>US</td>\n",
       "    </tr>\n",
       "  </tbody>\n",
       "</table>\n",
       "</div>"
      ],
      "text/plain": [
       "          Date     Close                       Event Region\n",
       "0   2004-11-02  1.272006  2004 Presidential Election     US\n",
       "3   2008-09-29  1.439325        Housing Market Crash     US\n",
       "4   2008-11-04  1.298398  2008 Presidential Election     US\n",
       "5   2008-12-11  1.332996              Madoff Scandal     US\n",
       "13  2012-05-18  1.269841                Facebook IPO     US"
      ]
     },
     "execution_count": 12,
     "metadata": {},
     "output_type": "execute_result"
    }
   ],
   "source": [
    "# Results for Euro/USD exchange rate based on US only events\n",
    "us_events = euro_events.loc[euro_events.Region == 'US']\n",
    "\n",
    "us_events.head()"
   ]
  },
  {
   "cell_type": "code",
   "execution_count": 13,
   "metadata": {},
   "outputs": [
    {
     "name": "stdout",
     "output_type": "stream",
     "text": [
      "          Date     Close               Event Region\n",
      "17  2017-03-29  1.081771  Brexit Talks Start  WORLD\n",
      "19  2020-01-31  1.102913  Brexit Implemented  WORLD\n"
     ]
    }
   ],
   "source": [
    "# Cleaning data to see results for how Brexit affected the Euro/USD exchange rate\n",
    "brexit_status = ['Brexit Talks Start', 'Brexit Implemented']\n",
    "mask = euro_events['Event'].isin(brexit_status)\n",
    "brexit_events = euro_events[mask]\n",
    "\n",
    "print(brexit_events)\n"
   ]
  },
  {
   "cell_type": "code",
   "execution_count": 14,
   "metadata": {},
   "outputs": [],
   "source": [
    "# Exporting results to a csv file for all of the events\n",
    "euro_events.to_csv('Results/euro_events.csv', index=False)"
   ]
  },
  {
   "cell_type": "code",
   "execution_count": 15,
   "metadata": {},
   "outputs": [],
   "source": [
    "# Exporting results to a csv file for all world only events\n",
    "world_events.to_csv('Results/world_only.csv', index=False)"
   ]
  },
  {
   "cell_type": "code",
   "execution_count": 16,
   "metadata": {},
   "outputs": [],
   "source": [
    "# Exporting results to a csv file for US only events\n",
    "us_events.to_csv('Results/us_only.csv', index=False)"
   ]
  }
 ],
 "metadata": {
  "kernelspec": {
   "display_name": "Python 3",
   "language": "python",
   "name": "python3"
  },
  "language_info": {
   "codemirror_mode": {
    "name": "ipython",
    "version": 3
   },
   "file_extension": ".py",
   "mimetype": "text/x-python",
   "name": "python",
   "nbconvert_exporter": "python",
   "pygments_lexer": "ipython3",
   "version": "3.12.2"
  }
 },
 "nbformat": 4,
 "nbformat_minor": 2
}

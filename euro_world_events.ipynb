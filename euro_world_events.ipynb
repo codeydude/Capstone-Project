{
 "cells": [
  {
   "cell_type": "markdown",
   "metadata": {},
   "source": [
    "# Introduction\n",
    "\n",
    "This analysis will look at the Euro/USD exchange rate and find evidence to correlate how it can be affected by world events that stem sometimes from here at home in the United States or other nations. There will be instances where the events might make you think that the exchange should be dramatic but the data will say otherwise! The data being used primarily is the exchange rate of the Euro vs. 1 US Dollar between the dates of 11/30/2003 and 7/29/2022. The other data set with important world events is a csv I created by mapping out dates for important US and World Events with the region where the origination of those very events occur.\n",
    "\n",
    "This Jupyter notebook takes the csv files, cleans and merges them, then exports them as csv files in the Results folder to be used for visualization in Tableau, which you can access through a link in the readme file."
   ]
  },
  {
   "cell_type": "markdown",
   "metadata": {},
   "source": [
    "### Import Pandas"
   ]
  },
  {
   "cell_type": "code",
   "execution_count": 1,
   "metadata": {},
   "outputs": [],
   "source": [
    "import pandas as pd\n",
    "import warnings\n",
    "warnings.filterwarnings(\"ignore\")"
   ]
  },
  {
   "cell_type": "markdown",
   "metadata": {},
   "source": [
    "### Load first set of data"
   ]
  },
  {
   "cell_type": "code",
   "execution_count": 2,
   "metadata": {},
   "outputs": [
    {
     "data": {
      "text/html": [
       "<div>\n",
       "<style scoped>\n",
       "    .dataframe tbody tr th:only-of-type {\n",
       "        vertical-align: middle;\n",
       "    }\n",
       "\n",
       "    .dataframe tbody tr th {\n",
       "        vertical-align: top;\n",
       "    }\n",
       "\n",
       "    .dataframe thead th {\n",
       "        text-align: right;\n",
       "    }\n",
       "</style>\n",
       "<table border=\"1\" class=\"dataframe\">\n",
       "  <thead>\n",
       "    <tr style=\"text-align: right;\">\n",
       "      <th></th>\n",
       "      <th>Date</th>\n",
       "      <th>Close</th>\n",
       "    </tr>\n",
       "  </thead>\n",
       "  <tbody>\n",
       "    <tr>\n",
       "      <th>0</th>\n",
       "      <td>2003-12-01</td>\n",
       "      <td>1.196501</td>\n",
       "    </tr>\n",
       "    <tr>\n",
       "      <th>1</th>\n",
       "      <td>2003-12-02</td>\n",
       "      <td>1.208897</td>\n",
       "    </tr>\n",
       "    <tr>\n",
       "      <th>2</th>\n",
       "      <td>2003-12-03</td>\n",
       "      <td>1.212298</td>\n",
       "    </tr>\n",
       "    <tr>\n",
       "      <th>3</th>\n",
       "      <td>2003-12-04</td>\n",
       "      <td>1.208094</td>\n",
       "    </tr>\n",
       "    <tr>\n",
       "      <th>4</th>\n",
       "      <td>2003-12-05</td>\n",
       "      <td>1.218695</td>\n",
       "    </tr>\n",
       "  </tbody>\n",
       "</table>\n",
       "</div>"
      ],
      "text/plain": [
       "         Date     Close\n",
       "0  2003-12-01  1.196501\n",
       "1  2003-12-02  1.208897\n",
       "2  2003-12-03  1.212298\n",
       "3  2003-12-04  1.208094\n",
       "4  2003-12-05  1.218695"
      ]
     },
     "execution_count": 2,
     "metadata": {},
     "output_type": "execute_result"
    }
   ],
   "source": [
    "# Reading my first csv file, the Euro/USD exchange rates\n",
    "euro_df = pd.read_csv('Input/EURUSDX.csv', usecols = ['Date', 'Close'])\n",
    "\n",
    "euro_df.head()"
   ]
  },
  {
   "cell_type": "code",
   "execution_count": 3,
   "metadata": {},
   "outputs": [
    {
     "data": {
      "text/plain": [
       "(4870, 2)"
      ]
     },
     "execution_count": 3,
     "metadata": {},
     "output_type": "execute_result"
    }
   ],
   "source": [
    "# Checking basic info such as shape, NaNs and dtypes\n",
    "euro_df.shape"
   ]
  },
  {
   "cell_type": "code",
   "execution_count": 4,
   "metadata": {},
   "outputs": [
    {
     "data": {
      "text/plain": [
       "True"
      ]
     },
     "execution_count": 4,
     "metadata": {},
     "output_type": "execute_result"
    }
   ],
   "source": [
    "# Checking for null values in the euro dataframe\n",
    "euro_df.isnull().values.any()"
   ]
  },
  {
   "cell_type": "code",
   "execution_count": 5,
   "metadata": {},
   "outputs": [
    {
     "data": {
      "text/plain": [
       "<bound method DataFrame.info of             Date     Close\n",
       "0     2003-12-01  1.196501\n",
       "1     2003-12-02  1.208897\n",
       "2     2003-12-03  1.212298\n",
       "3     2003-12-04  1.208094\n",
       "4     2003-12-05  1.218695\n",
       "...          ...       ...\n",
       "4865  2022-07-25  1.020023\n",
       "4866  2022-07-26  1.022495\n",
       "4867  2022-07-27  1.012956\n",
       "4868  2022-07-28  1.020929\n",
       "4869  2022-07-29  1.024380\n",
       "\n",
       "[4870 rows x 2 columns]>"
      ]
     },
     "execution_count": 5,
     "metadata": {},
     "output_type": "execute_result"
    }
   ],
   "source": [
    "# Pulling information about the data frame such as number of columns, column labels, etc.\n",
    "euro_df.info"
   ]
  },
  {
   "cell_type": "code",
   "execution_count": 6,
   "metadata": {},
   "outputs": [
    {
     "data": {
      "text/html": [
       "<div>\n",
       "<style scoped>\n",
       "    .dataframe tbody tr th:only-of-type {\n",
       "        vertical-align: middle;\n",
       "    }\n",
       "\n",
       "    .dataframe tbody tr th {\n",
       "        vertical-align: top;\n",
       "    }\n",
       "\n",
       "    .dataframe thead th {\n",
       "        text-align: right;\n",
       "    }\n",
       "</style>\n",
       "<table border=\"1\" class=\"dataframe\">\n",
       "  <thead>\n",
       "    <tr style=\"text-align: right;\">\n",
       "      <th></th>\n",
       "      <th>Close</th>\n",
       "    </tr>\n",
       "  </thead>\n",
       "  <tbody>\n",
       "    <tr>\n",
       "      <th>count</th>\n",
       "      <td>4841.000000</td>\n",
       "    </tr>\n",
       "    <tr>\n",
       "      <th>mean</th>\n",
       "      <td>1.250149</td>\n",
       "    </tr>\n",
       "    <tr>\n",
       "      <th>std</th>\n",
       "      <td>0.121111</td>\n",
       "    </tr>\n",
       "    <tr>\n",
       "      <th>min</th>\n",
       "      <td>1.002567</td>\n",
       "    </tr>\n",
       "    <tr>\n",
       "      <th>25%</th>\n",
       "      <td>1.140004</td>\n",
       "    </tr>\n",
       "    <tr>\n",
       "      <th>50%</th>\n",
       "      <td>1.238497</td>\n",
       "    </tr>\n",
       "    <tr>\n",
       "      <th>75%</th>\n",
       "      <td>1.336791</td>\n",
       "    </tr>\n",
       "    <tr>\n",
       "      <th>max</th>\n",
       "      <td>1.598798</td>\n",
       "    </tr>\n",
       "  </tbody>\n",
       "</table>\n",
       "</div>"
      ],
      "text/plain": [
       "             Close\n",
       "count  4841.000000\n",
       "mean      1.250149\n",
       "std       0.121111\n",
       "min       1.002567\n",
       "25%       1.140004\n",
       "50%       1.238497\n",
       "75%       1.336791\n",
       "max       1.598798"
      ]
     },
     "execution_count": 6,
     "metadata": {},
     "output_type": "execute_result"
    }
   ],
   "source": [
    "# Calculating some statistical data about the euro dataframe\n",
    "euro_df.describe()"
   ]
  },
  {
   "cell_type": "markdown",
   "metadata": {},
   "source": [
    "### Load second set of data"
   ]
  },
  {
   "cell_type": "code",
   "execution_count": 7,
   "metadata": {},
   "outputs": [
    {
     "data": {
      "text/html": [
       "<div>\n",
       "<style scoped>\n",
       "    .dataframe tbody tr th:only-of-type {\n",
       "        vertical-align: middle;\n",
       "    }\n",
       "\n",
       "    .dataframe tbody tr th {\n",
       "        vertical-align: top;\n",
       "    }\n",
       "\n",
       "    .dataframe thead th {\n",
       "        text-align: right;\n",
       "    }\n",
       "</style>\n",
       "<table border=\"1\" class=\"dataframe\">\n",
       "  <thead>\n",
       "    <tr style=\"text-align: right;\">\n",
       "      <th></th>\n",
       "      <th>Event</th>\n",
       "      <th>Date</th>\n",
       "      <th>Region</th>\n",
       "    </tr>\n",
       "  </thead>\n",
       "  <tbody>\n",
       "    <tr>\n",
       "      <th>0</th>\n",
       "      <td>Iraq War</td>\n",
       "      <td>2003-03-20</td>\n",
       "      <td>US</td>\n",
       "    </tr>\n",
       "    <tr>\n",
       "      <th>1</th>\n",
       "      <td>2004 Presidential Election</td>\n",
       "      <td>2004-11-02</td>\n",
       "      <td>US</td>\n",
       "    </tr>\n",
       "    <tr>\n",
       "      <th>2</th>\n",
       "      <td>Indian Ocean Earthquake &amp; Tsunami</td>\n",
       "      <td>2004-12-26</td>\n",
       "      <td>WORLD</td>\n",
       "    </tr>\n",
       "    <tr>\n",
       "      <th>3</th>\n",
       "      <td>Pope John Paul II Death</td>\n",
       "      <td>2005-04-02</td>\n",
       "      <td>WORLD</td>\n",
       "    </tr>\n",
       "    <tr>\n",
       "      <th>4</th>\n",
       "      <td>iPhone Introduction</td>\n",
       "      <td>2007-01-09</td>\n",
       "      <td>WORLD</td>\n",
       "    </tr>\n",
       "  </tbody>\n",
       "</table>\n",
       "</div>"
      ],
      "text/plain": [
       "                               Event        Date Region\n",
       "0                           Iraq War  2003-03-20     US\n",
       "1         2004 Presidential Election  2004-11-02     US\n",
       "2  Indian Ocean Earthquake & Tsunami  2004-12-26  WORLD\n",
       "3            Pope John Paul II Death  2005-04-02  WORLD\n",
       "4                iPhone Introduction  2007-01-09  WORLD"
      ]
     },
     "execution_count": 7,
     "metadata": {},
     "output_type": "execute_result"
    }
   ],
   "source": [
    "# Reading my second csv file, the important world event dates\n",
    "dates_df = pd.read_csv('Input/World_Events.csv', usecols = ['Event', 'Date', 'Region'])\n",
    "\n",
    "dates_df.head()\n"
   ]
  },
  {
   "cell_type": "markdown",
   "metadata": {},
   "source": [
    "### Test run"
   ]
  },
  {
   "cell_type": "code",
   "execution_count": 8,
   "metadata": {},
   "outputs": [
    {
     "name": "stdout",
     "output_type": "stream",
     "text": [
      "            Date     Close\n",
      "2893  2015-01-01  1.209863\n"
     ]
    }
   ],
   "source": [
    "# Test to see if a random date gives me the correct outcome\n",
    "euro_2015 = euro_df.loc[euro_df.Date == '2015-01-01']\n",
    "\n",
    "print(euro_2015)\n"
   ]
  },
  {
   "cell_type": "code",
   "execution_count": 9,
   "metadata": {},
   "outputs": [
    {
     "name": "stdout",
     "output_type": "stream",
     "text": [
      "                        Event        Date Region\n",
      "1  2004 Presidential Election  2004-11-02     US\n"
     ]
    }
   ],
   "source": [
    "# Another test to see if the dates dataframe gives me the correct outcome for a random date\n",
    "event_1 = dates_df.loc[dates_df.Date == '2004-11-02']\n",
    "\n",
    "print(event_1)"
   ]
  },
  {
   "cell_type": "markdown",
   "metadata": {},
   "source": [
    "### Clean and Merge data"
   ]
  },
  {
   "cell_type": "code",
   "execution_count": 10,
   "metadata": {},
   "outputs": [
    {
     "name": "stdout",
     "output_type": "stream",
     "text": [
      "          Date     Close                                 Event Region\n",
      "0   2004-11-02  1.272006            2004 Presidential Election     US\n",
      "1   2007-01-09  1.299697                   iPhone Introduction  WORLD\n",
      "2   2008-09-15  1.426900                  2008 Great Recession  WORLD\n",
      "3   2008-09-29  1.439325                  Housing Market Crash     US\n",
      "4   2008-11-04  1.298398            2008 Presidential Election     US\n",
      "5   2008-12-11  1.332996                        Madoff Scandal     US\n",
      "6   2010-12-17  1.323995                           Arab Spring  WORLD\n",
      "7   2011-01-14  1.335327                      Tunisia Uprising  WORLD\n",
      "8   2011-02-03  1.381788                        Yemen Uprising  WORLD\n",
      "9   2011-02-09  1.362695                        Egypt Uprising  WORLD\n",
      "10  2011-02-15  1.348109                        Libya Uprising  WORLD\n",
      "11  2011-03-11  1.380129    2011 Japanese Earthquake & Tsunami  WORLD\n",
      "12  2011-04-29  1.484406                        Syria Uprising  WORLD\n",
      "13  2012-05-18  1.269841                          Facebook IPO     US\n",
      "14  2012-06-01  1.236247                       Coinbase Launch  WORLD\n",
      "15  2012-11-06  1.280246            2012 Presidential Election     US\n",
      "16  2016-11-08  1.105217            2016 Presidential Election     US\n",
      "17  2017-03-29  1.081771                    Brexit Talks Start  WORLD\n",
      "18  2019-12-27  1.110112  First Chinese COVID-19 Case Reported  WORLD\n",
      "19  2020-01-31  1.102913                    Brexit Implemented  WORLD\n",
      "20  2020-11-03  1.164280            2020 Presidential Election     US\n",
      "21  2021-01-06  1.230027                    US Capitol Attacks     US\n",
      "22  2021-01-20  1.213887                    Biden Inauguration     US\n",
      "23  2022-02-24  1.130569           Russian invasion of Ukraine  WORLD\n",
      "24  2022-06-30  1.044659                        Inflation Rise     US\n"
     ]
    }
   ],
   "source": [
    "# Merged dataframes to give an overview of various events and the closing rate of the Euro/USD exchange\n",
    "euro_events = euro_df.merge(dates_df)\n",
    "\n",
    "print(euro_events)"
   ]
  },
  {
   "cell_type": "markdown",
   "metadata": {},
   "source": [
    "### Filtering data"
   ]
  },
  {
   "cell_type": "code",
   "execution_count": 11,
   "metadata": {},
   "outputs": [
    {
     "data": {
      "text/html": [
       "<div>\n",
       "<style scoped>\n",
       "    .dataframe tbody tr th:only-of-type {\n",
       "        vertical-align: middle;\n",
       "    }\n",
       "\n",
       "    .dataframe tbody tr th {\n",
       "        vertical-align: top;\n",
       "    }\n",
       "\n",
       "    .dataframe thead th {\n",
       "        text-align: right;\n",
       "    }\n",
       "</style>\n",
       "<table border=\"1\" class=\"dataframe\">\n",
       "  <thead>\n",
       "    <tr style=\"text-align: right;\">\n",
       "      <th></th>\n",
       "      <th>Date</th>\n",
       "      <th>Close</th>\n",
       "      <th>Event</th>\n",
       "      <th>Region</th>\n",
       "    </tr>\n",
       "  </thead>\n",
       "  <tbody>\n",
       "    <tr>\n",
       "      <th>1</th>\n",
       "      <td>2007-01-09</td>\n",
       "      <td>1.299697</td>\n",
       "      <td>iPhone Introduction</td>\n",
       "      <td>WORLD</td>\n",
       "    </tr>\n",
       "    <tr>\n",
       "      <th>2</th>\n",
       "      <td>2008-09-15</td>\n",
       "      <td>1.426900</td>\n",
       "      <td>2008 Great Recession</td>\n",
       "      <td>WORLD</td>\n",
       "    </tr>\n",
       "    <tr>\n",
       "      <th>6</th>\n",
       "      <td>2010-12-17</td>\n",
       "      <td>1.323995</td>\n",
       "      <td>Arab Spring</td>\n",
       "      <td>WORLD</td>\n",
       "    </tr>\n",
       "    <tr>\n",
       "      <th>7</th>\n",
       "      <td>2011-01-14</td>\n",
       "      <td>1.335327</td>\n",
       "      <td>Tunisia Uprising</td>\n",
       "      <td>WORLD</td>\n",
       "    </tr>\n",
       "    <tr>\n",
       "      <th>8</th>\n",
       "      <td>2011-02-03</td>\n",
       "      <td>1.381788</td>\n",
       "      <td>Yemen Uprising</td>\n",
       "      <td>WORLD</td>\n",
       "    </tr>\n",
       "  </tbody>\n",
       "</table>\n",
       "</div>"
      ],
      "text/plain": [
       "         Date     Close                 Event Region\n",
       "1  2007-01-09  1.299697   iPhone Introduction  WORLD\n",
       "2  2008-09-15  1.426900  2008 Great Recession  WORLD\n",
       "6  2010-12-17  1.323995           Arab Spring  WORLD\n",
       "7  2011-01-14  1.335327      Tunisia Uprising  WORLD\n",
       "8  2011-02-03  1.381788        Yemen Uprising  WORLD"
      ]
     },
     "execution_count": 11,
     "metadata": {},
     "output_type": "execute_result"
    }
   ],
   "source": [
    "# Results for Euro/USD exchange rate based on World only events\n",
    "world_events = euro_events.loc[euro_events.Region == 'WORLD']\n",
    "\n",
    "world_events.head()"
   ]
  },
  {
   "cell_type": "code",
   "execution_count": 12,
   "metadata": {},
   "outputs": [
    {
     "data": {
      "text/html": [
       "<div>\n",
       "<style scoped>\n",
       "    .dataframe tbody tr th:only-of-type {\n",
       "        vertical-align: middle;\n",
       "    }\n",
       "\n",
       "    .dataframe tbody tr th {\n",
       "        vertical-align: top;\n",
       "    }\n",
       "\n",
       "    .dataframe thead th {\n",
       "        text-align: right;\n",
       "    }\n",
       "</style>\n",
       "<table border=\"1\" class=\"dataframe\">\n",
       "  <thead>\n",
       "    <tr style=\"text-align: right;\">\n",
       "      <th></th>\n",
       "      <th>Date</th>\n",
       "      <th>Close</th>\n",
       "      <th>Event</th>\n",
       "      <th>Region</th>\n",
       "    </tr>\n",
       "  </thead>\n",
       "  <tbody>\n",
       "    <tr>\n",
       "      <th>0</th>\n",
       "      <td>2004-11-02</td>\n",
       "      <td>1.272006</td>\n",
       "      <td>2004 Presidential Election</td>\n",
       "      <td>US</td>\n",
       "    </tr>\n",
       "    <tr>\n",
       "      <th>3</th>\n",
       "      <td>2008-09-29</td>\n",
       "      <td>1.439325</td>\n",
       "      <td>Housing Market Crash</td>\n",
       "      <td>US</td>\n",
       "    </tr>\n",
       "    <tr>\n",
       "      <th>4</th>\n",
       "      <td>2008-11-04</td>\n",
       "      <td>1.298398</td>\n",
       "      <td>2008 Presidential Election</td>\n",
       "      <td>US</td>\n",
       "    </tr>\n",
       "    <tr>\n",
       "      <th>5</th>\n",
       "      <td>2008-12-11</td>\n",
       "      <td>1.332996</td>\n",
       "      <td>Madoff Scandal</td>\n",
       "      <td>US</td>\n",
       "    </tr>\n",
       "    <tr>\n",
       "      <th>13</th>\n",
       "      <td>2012-05-18</td>\n",
       "      <td>1.269841</td>\n",
       "      <td>Facebook IPO</td>\n",
       "      <td>US</td>\n",
       "    </tr>\n",
       "  </tbody>\n",
       "</table>\n",
       "</div>"
      ],
      "text/plain": [
       "          Date     Close                       Event Region\n",
       "0   2004-11-02  1.272006  2004 Presidential Election     US\n",
       "3   2008-09-29  1.439325        Housing Market Crash     US\n",
       "4   2008-11-04  1.298398  2008 Presidential Election     US\n",
       "5   2008-12-11  1.332996              Madoff Scandal     US\n",
       "13  2012-05-18  1.269841                Facebook IPO     US"
      ]
     },
     "execution_count": 12,
     "metadata": {},
     "output_type": "execute_result"
    }
   ],
   "source": [
    "# Results for Euro/USD exchange rate based on US only events\n",
    "us_events = euro_events.loc[euro_events.Region == 'US']\n",
    "\n",
    "us_events.head()"
   ]
  },
  {
   "cell_type": "markdown",
   "metadata": {},
   "source": [
    "### Cleaning and calculating new values"
   ]
  },
  {
   "cell_type": "code",
   "execution_count": 13,
   "metadata": {},
   "outputs": [
    {
     "name": "stdout",
     "output_type": "stream",
     "text": [
      "          Date     Close               Event Region\n",
      "17  2017-03-29  1.081771  Brexit Talks Start  WORLD\n",
      "19  2020-01-31  1.102913  Brexit Implemented  WORLD\n"
     ]
    }
   ],
   "source": [
    "# Cleaning data to see results for how Brexit affected the Euro/USD exchange rate\n",
    "brexit_status = ['Brexit Talks Start', 'Brexit Implemented']\n",
    "mask = euro_events['Event'].isin(brexit_status)\n",
    "brexit_events = euro_events[mask]\n",
    "\n",
    "print(brexit_events)\n"
   ]
  },
  {
   "cell_type": "code",
   "execution_count": 14,
   "metadata": {},
   "outputs": [
    {
     "name": "stdout",
     "output_type": "stream",
     "text": [
      "            Date     Close  3-Day Rolling Average\n",
      "0     2003-12-01  1.196501                    NaN\n",
      "1     2003-12-02  1.208897                    NaN\n",
      "2     2003-12-03  1.212298               1.205899\n",
      "3     2003-12-04  1.208094               1.209763\n",
      "4     2003-12-05  1.218695               1.213029\n",
      "...          ...       ...                    ...\n",
      "4865  2022-07-25  1.020023               1.020136\n",
      "4866  2022-07-26  1.022495               1.021542\n",
      "4867  2022-07-27  1.012956               1.018491\n",
      "4868  2022-07-28  1.020929               1.018793\n",
      "4869  2022-07-29  1.024380               1.019422\n",
      "\n",
      "[4870 rows x 3 columns]\n"
     ]
    }
   ],
   "source": [
    "euro_df['3-Day Rolling Average'] = euro_df['Close'].rolling(window=3).mean()\n",
    "\n",
    "print(euro_df)"
   ]
  },
  {
   "cell_type": "code",
   "execution_count": 15,
   "metadata": {},
   "outputs": [
    {
     "name": "stdout",
     "output_type": "stream",
     "text": [
      "         Date     Close  Previous Day Difference\n",
      "0  2003-12-01  1.196501                      NaN\n",
      "1  2003-12-02  1.208897                 0.012396\n",
      "2  2003-12-03  1.212298                 0.003401\n",
      "3  2003-12-04  1.208094                -0.004204\n",
      "4  2003-12-05  1.218695                 0.010601\n",
      "5  2003-12-08  1.222001                 0.003306\n",
      "6  2003-12-09  1.224995                 0.002994\n",
      "7  2003-12-10  1.219096                -0.005899\n",
      "8  2003-12-11  1.222404                 0.003308\n",
      "9  2003-12-12  1.227898                 0.005494\n"
     ]
    }
   ],
   "source": [
    "euro_df['Previous Day Difference'] = euro_df['Close'].diff()\n",
    "\n",
    "print(euro_df[['Date', 'Close', 'Previous Day Difference']].head(10))"
   ]
  },
  {
   "cell_type": "code",
   "execution_count": 16,
   "metadata": {},
   "outputs": [
    {
     "name": "stdout",
     "output_type": "stream",
     "text": [
      "         Date     Close Percentage Change\n",
      "0  2003-12-01  1.196501              nan%\n",
      "1  2003-12-02  1.208897             1.04%\n",
      "2  2003-12-03  1.212298             0.28%\n",
      "3  2003-12-04  1.208094            -0.35%\n",
      "4  2003-12-05  1.218695             0.88%\n",
      "5  2003-12-08  1.222001             0.27%\n",
      "6  2003-12-09  1.224995             0.25%\n",
      "7  2003-12-10  1.219096            -0.48%\n",
      "8  2003-12-11  1.222404             0.27%\n",
      "9  2003-12-12  1.227898             0.45%\n"
     ]
    }
   ],
   "source": [
    "euro_df['Percentage Change'] = (euro_df['Close'].pct_change() * 100).round(2).astype(str) + '%'\n",
    "\n",
    "print(euro_df[['Date', 'Close', 'Percentage Change']].head(10))"
   ]
  },
  {
   "cell_type": "markdown",
   "metadata": {},
   "source": [
    "### Write to csv"
   ]
  },
  {
   "cell_type": "code",
   "execution_count": 17,
   "metadata": {},
   "outputs": [],
   "source": [
    "# Exporting results to a csv file for all of the events\n",
    "euro_events.to_csv('Results/euro_events.csv', index=False)"
   ]
  },
  {
   "cell_type": "code",
   "execution_count": 18,
   "metadata": {},
   "outputs": [],
   "source": [
    "# Exporting results to a csv file for all world only events\n",
    "world_events.to_csv('Results/world_only.csv', index=False)"
   ]
  },
  {
   "cell_type": "code",
   "execution_count": 19,
   "metadata": {},
   "outputs": [],
   "source": [
    "# Exporting results to a csv file for US only events\n",
    "us_events.to_csv('Results/us_only.csv', index=False)"
   ]
  },
  {
   "cell_type": "markdown",
   "metadata": {},
   "source": [
    "## Summary of Findings\n",
    "The Euro when compared to the US Dollar looks to be a steady contender until the 2008s Great Recession and the subsequent US Housing Market Crash a couple weeks later where it nosedived almost 11% from €1.2297 to €1.4393 from the beginning of that year to September of that year. It did, however, recover 2 months later on 11/04/2008 on the day of the US Presidential Election, which saw Barack Hussein Obama as the winner and President Elect. 2 of these 3 important events mentioned have origins primarily from the United States with the Recession also mostly originating from the failed banks in America and creating a domino effect with failed banks around the world that snowballed into the Great Recession. These events point to the fact that the US based events do definitely affect the value and the buying power of the Euro currency.\n",
    "\n",
    "Following the previous events, the Euro stabilizes in the €1.30~ range for the next few years. It next saw a dramatic drop during the Arab Spring's ongoing uprising, where many Middle Eastern nations had revolutions and government instability for most of 2011 and the Euro peaked at €1.4844, which is it's highest ever when looking at the data within this study, during the Syrian Uprising. This gives us insight on another external region affecting the Euro currency's value and how those forces can change the outlook of a world renowned medium of exchange.\n",
    "\n",
    "The next important point seen in the cleaned data is on the date 5/18/2012 when Facebook Inc.'s IPO was offered. From here on out, the Euro climbed in value from €1.2802 to €1.0818 when Brexit talks began on 3/29/2017. Brexit was the withdrawal of the United Kingdom from the European Union since being a member state of the European Union's previous predecessor, the European Communities since 1973. This event was very much an internal affair for the European Union and therefore the Euro currency but as the data shows, the valuation of the Euro was not affected much from the date the talks began for Brexit until it was finally implemented almost 3 years later on 1/31/2020. The change in value when compared to an exchange of 1 US Dollar shows a drop of €0.0212 in value during this time.\n",
    "\n",
    "The 2020 US Presidential Election saw the Euro drop to €1.1642 hinting at the growing instability of US politics. The US Capitol Attack devalued the Euro against the US Dollar almost 6% to €1.2300. President Biden's Inauguration saw the Euro gain 1.5% back in value to €1.2138. \n",
    "\n",
    "By the time of the Russian invasion of Ukraine occurred on 2/24/2022, the Euro had recovered from its previous low and gained 7% in value to €1.1305. Following this, 2022s Inflation Rise was reported at the end of the first half of 2022. The inflation rate was reported to be 9.1%, a record high since the early 1980s in the US. Not being influenced by further economic instability in the United States, the Euro saw a gain of 8% in value to €1.0446 during this very time when the highest ever inflation rate in recent history was reported in the United States.\n",
    "\n",
    "To summarize all of my findings in this study, initially the Euro had been fluctuating in the €1.30 range starting in November of 2004 excluding the dips and gains mentioned earlier but following the 2016 Presidential Election, the Euro saw a dramatic gain in value and has since come very close to being on par with the US Dollar. This study shows that although the US economy, politics and overall instability do greatly affect the worth of the Euro, sometimes even more so than it's own internal challenges, it has seen a steady gain in value and has come out to be a very close contender to the US Dollar on the world stage with its prowess in buying power."
   ]
  }
 ],
 "metadata": {
  "kernelspec": {
   "display_name": "Python 3",
   "language": "python",
   "name": "python3"
  },
  "language_info": {
   "codemirror_mode": {
    "name": "ipython",
    "version": 3
   },
   "file_extension": ".py",
   "mimetype": "text/x-python",
   "name": "python",
   "nbconvert_exporter": "python",
   "pygments_lexer": "ipython3",
   "version": "3.12.2"
  }
 },
 "nbformat": 4,
 "nbformat_minor": 2
}
